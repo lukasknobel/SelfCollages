{
 "cells": [
  {
   "cell_type": "markdown",
   "id": "f738e113-78f0-42c6-a7b5-519bccd418a0",
   "metadata": {},
   "source": [
    "# Semantic Counting from Self-Collages\n",
    "This is the example notebook for the paper \"Semantic Counting from Self-Collages\". Please make sure to follow the steps described in the README file to setup the project before using this notebook.\n",
    "\n",
    "For all commands, you can get more information about optional arguments using the ```--help``` flag."
   ]
  },
  {
   "cell_type": "code",
   "execution_count": null,
   "id": "5626079c",
   "metadata": {},
   "outputs": [],
   "source": [
    "%matplotlib inline"
   ]
  },
  {
   "cell_type": "code",
   "execution_count": null,
   "id": "06df4805",
   "metadata": {},
   "outputs": [],
   "source": [
    "import os"
   ]
  },
  {
   "cell_type": "markdown",
   "id": "45fef20f",
   "metadata": {},
   "source": [
    "**All lines that need to be updated to run this notebook are indicated as shown in the example below.**"
   ]
  },
  {
   "cell_type": "code",
   "execution_count": null,
   "id": "b4667021",
   "metadata": {},
   "outputs": [],
   "source": [
    "# ========= CHANGE =========\n",
    "root_path = './' # path to the root directory of this repository (/path/to/SelfCollages/)"
   ]
  },
  {
   "cell_type": "markdown",
   "id": "b5636d59",
   "metadata": {},
   "source": [
    "## Training or downloading UnCo"
   ]
  },
  {
   "cell_type": "markdown",
   "id": "1e1b781e",
   "metadata": {},
   "source": [
    "In order to train UnCo from scratch, the object masks for the ImageNet images have to be generated first as described in the README. Alternatively, a pretrained UnCo model can be downloaded [here](https://drive.google.com/file/d/1TWhXypJwSs7-sLdFTir7H4ajIhdUnP-u/view?usp=sharing)."
   ]
  },
  {
   "cell_type": "code",
   "execution_count": null,
   "id": "3974a48d",
   "metadata": {},
   "outputs": [],
   "source": [
    "%run train_UnCo.py"
   ]
  },
  {
   "cell_type": "markdown",
   "id": "f74fa0ba",
   "metadata": {},
   "source": [
    "## Model path specification\n",
    "Specify the path to the model which you want to use for the rest of this notebook. This can be either a newly trained or the downloaded model."
   ]
  },
  {
   "cell_type": "code",
   "execution_count": null,
   "id": "c435a8f0",
   "metadata": {},
   "outputs": [],
   "source": [
    "# ========= CHANGE ========= \n",
    "model_dir = '/path/to/model'"
   ]
  },
  {
   "cell_type": "markdown",
   "id": "029fbbca",
   "metadata": {},
   "source": [
    "## Evaluation"
   ]
  },
  {
   "cell_type": "code",
   "execution_count": null,
   "id": "cbdfd147",
   "metadata": {},
   "outputs": [],
   "source": [
    "# configuring paths and information required for evaluation\n",
    "dataset_type = 'test' # test, val, or MSO\n",
    "data_path= os.path.join(root_path, 'data') # path to the data directory\n",
    "output_dir = os.path.join(root_path, 'eval_output') # output directory\n",
    "num_visualisations = 2 # the number of visualisations shown, -1 shows all visualisations"
   ]
  },
  {
   "cell_type": "markdown",
   "id": "41780407",
   "metadata": {},
   "source": [
    "Evaluate the model on the specified dataset."
   ]
  },
  {
   "cell_type": "code",
   "execution_count": null,
   "id": "241df197",
   "metadata": {},
   "outputs": [],
   "source": [
    "%run evaluate_UnCo.py  --model_dir={model_dir} --data_path={os.path.join(data_path, 'FSC147_384_V2')} --weights_dir={data_path} --output_dir={output_dir} --dataset_type={dataset_type} --num_visualisations={num_visualisations} --show_visualisations"
   ]
  },
  {
   "cell_type": "markdown",
   "id": "4faa35d6",
   "metadata": {},
   "source": [
    "Aggregate results in a CSV file, compute additional metrics and calculate the performance on different subsets."
   ]
  },
  {
   "cell_type": "code",
   "execution_count": null,
   "id": "a2f2b94d",
   "metadata": {},
   "outputs": [],
   "source": [
    "# this code automatically selects the first first results directory\n",
    "eval_results_path = os.path.join(output_dir, dataset_type)\n",
    "eval_results_path = os.path.join(eval_results_path, os.listdir(eval_results_path)[0])"
   ]
  },
  {
   "cell_type": "code",
   "execution_count": null,
   "id": "c6ee7c45",
   "metadata": {},
   "outputs": [],
   "source": [
    "%run aggregate_evaluation_results.py --eval_results_path={eval_results_path} --dataset_type={dataset_type}"
   ]
  },
  {
   "cell_type": "markdown",
   "id": "6c8fcc12",
   "metadata": {},
   "source": [
    "Evaluate the baselines, their results are saved in a CSV file."
   ]
  },
  {
   "cell_type": "code",
   "execution_count": null,
   "id": "33cbf713",
   "metadata": {},
   "outputs": [],
   "source": [
    "%run test_baselines.py --img_size=384 --batch_size=32"
   ]
  },
  {
   "cell_type": "markdown",
   "id": "c332ac19",
   "metadata": {},
   "source": [
    "The different CSV files are in the \"results\" subdirectory."
   ]
  },
  {
   "cell_type": "code",
   "execution_count": null,
   "id": "2b81401d",
   "metadata": {},
   "outputs": [],
   "source": [
    "print(f'List of results files:{[el for el in os.listdir(os.path.join(root_path,\"results\")) if el.endswith(\"csv\")]}')"
   ]
  },
  {
   "cell_type": "markdown",
   "id": "dc47acbc",
   "metadata": {},
   "source": [
    "## Visualise predictions"
   ]
  },
  {
   "cell_type": "markdown",
   "id": "88515638",
   "metadata": {},
   "source": [
    "Visualise UnCo's predictions using scatter plots."
   ]
  },
  {
   "cell_type": "code",
   "execution_count": null,
   "id": "2408c45d",
   "metadata": {},
   "outputs": [],
   "source": [
    "# this code automatically selects the first model in the first results directory\n",
    "eval_model_results_path = os.path.join(eval_results_path, os.listdir(eval_results_path)[0])"
   ]
  },
  {
   "cell_type": "code",
   "execution_count": null,
   "id": "6ac6c084",
   "metadata": {},
   "outputs": [],
   "source": [
    "%run visualise_predictions.py --eval_results_path={eval_model_results_path} --dataset_type={dataset_type} --notebook"
   ]
  },
  {
   "cell_type": "markdown",
   "id": "c3887764",
   "metadata": {},
   "source": [
    "## Self-supervised semantic counting\n",
    "Create a folder of images which should be used to perform self-supervised semantic counting. ```img_dir``` should be the path to this folder."
   ]
  },
  {
   "cell_type": "code",
   "execution_count": null,
   "id": "5414f6a4",
   "metadata": {},
   "outputs": [],
   "source": [
    "# ========= CHANGE =========\n",
    "img_dir = '/path/to/imgs'"
   ]
  },
  {
   "cell_type": "code",
   "execution_count": null,
   "id": "599ab5e9",
   "metadata": {},
   "outputs": [],
   "source": [
    "%run self_supervised_semantic_counting.py --model_dir={model_dir} --img_dir={img_dir} --notebook"
   ]
  }
 ],
 "metadata": {
  "kernelspec": {
   "display_name": "Python 3 (ipykernel)",
   "language": "python",
   "name": "python3"
  },
  "language_info": {
   "codemirror_mode": {
    "name": "ipython",
    "version": 3
   },
   "file_extension": ".py",
   "mimetype": "text/x-python",
   "name": "python",
   "nbconvert_exporter": "python",
   "pygments_lexer": "ipython3",
   "version": "3.9.7"
  }
 },
 "nbformat": 4,
 "nbformat_minor": 5
}
